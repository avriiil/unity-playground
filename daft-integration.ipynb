{
 "cells": [
  {
   "cell_type": "markdown",
   "id": "7a1c757c-4b74-4867-b46e-c4e7ea6d60dc",
   "metadata": {},
   "source": [
    "# Using Unity Catalog with Daft"
   ]
  },
  {
   "cell_type": "code",
   "execution_count": null,
   "id": "cfef4169-4920-4774-81f3-2598356046ae",
   "metadata": {},
   "outputs": [],
   "source": []
  },
  {
   "cell_type": "markdown",
   "id": "1f2cb875-60b2-432f-b76b-9d42c69bad26",
   "metadata": {},
   "source": [
    "## Set up"
   ]
  },
  {
   "cell_type": "code",
   "execution_count": 4,
   "id": "0c2dfebe-0feb-44f5-b90d-49a480056415",
   "metadata": {
    "scrolled": true
   },
   "outputs": [
    {
     "name": "stdout",
     "output_type": "stream",
     "text": [
      "Requirement already satisfied: getdaft[unity] in /Users/rpelgrim/miniforge3/envs/daft/lib/python3.11/site-packages (0.2.29)\n",
      "Requirement already satisfied: pyarrow>=7.0.0 in /Users/rpelgrim/miniforge3/envs/daft/lib/python3.11/site-packages (from getdaft[unity]) (16.1.0)\n",
      "Requirement already satisfied: fsspec in /Users/rpelgrim/miniforge3/envs/daft/lib/python3.11/site-packages (from getdaft[unity]) (2023.12.2)\n",
      "Requirement already satisfied: tqdm in /Users/rpelgrim/miniforge3/envs/daft/lib/python3.11/site-packages (from getdaft[unity]) (4.66.4)\n",
      "Requirement already satisfied: unitycatalog in /Users/rpelgrim/miniforge3/envs/daft/lib/python3.11/site-packages (from getdaft[unity]) (0.1.1)\n",
      "Requirement already satisfied: numpy>=1.16.6 in /Users/rpelgrim/miniforge3/envs/daft/lib/python3.11/site-packages (from pyarrow>=7.0.0->getdaft[unity]) (1.26.4)\n",
      "Requirement already satisfied: anyio<5,>=3.5.0 in /Users/rpelgrim/miniforge3/envs/daft/lib/python3.11/site-packages (from unitycatalog->getdaft[unity]) (4.3.0)\n",
      "Requirement already satisfied: distro<2,>=1.7.0 in /Users/rpelgrim/miniforge3/envs/daft/lib/python3.11/site-packages (from unitycatalog->getdaft[unity]) (1.9.0)\n",
      "Requirement already satisfied: httpx<1,>=0.23.0 in /Users/rpelgrim/miniforge3/envs/daft/lib/python3.11/site-packages (from unitycatalog->getdaft[unity]) (0.27.0)\n",
      "Requirement already satisfied: pydantic<3,>=1.9.0 in /Users/rpelgrim/miniforge3/envs/daft/lib/python3.11/site-packages (from unitycatalog->getdaft[unity]) (2.7.4)\n",
      "Requirement already satisfied: sniffio in /Users/rpelgrim/miniforge3/envs/daft/lib/python3.11/site-packages (from unitycatalog->getdaft[unity]) (1.3.1)\n",
      "Requirement already satisfied: typing-extensions<5,>=4.7 in /Users/rpelgrim/miniforge3/envs/daft/lib/python3.11/site-packages (from unitycatalog->getdaft[unity]) (4.11.0)\n",
      "Requirement already satisfied: idna>=2.8 in /Users/rpelgrim/miniforge3/envs/daft/lib/python3.11/site-packages (from anyio<5,>=3.5.0->unitycatalog->getdaft[unity]) (3.7)\n",
      "Requirement already satisfied: certifi in /Users/rpelgrim/miniforge3/envs/daft/lib/python3.11/site-packages (from httpx<1,>=0.23.0->unitycatalog->getdaft[unity]) (2024.2.2)\n",
      "Requirement already satisfied: httpcore==1.* in /Users/rpelgrim/miniforge3/envs/daft/lib/python3.11/site-packages (from httpx<1,>=0.23.0->unitycatalog->getdaft[unity]) (1.0.5)\n",
      "Requirement already satisfied: h11<0.15,>=0.13 in /Users/rpelgrim/miniforge3/envs/daft/lib/python3.11/site-packages (from httpcore==1.*->httpx<1,>=0.23.0->unitycatalog->getdaft[unity]) (0.14.0)\n",
      "Requirement already satisfied: annotated-types>=0.4.0 in /Users/rpelgrim/miniforge3/envs/daft/lib/python3.11/site-packages (from pydantic<3,>=1.9.0->unitycatalog->getdaft[unity]) (0.7.0)\n",
      "Requirement already satisfied: pydantic-core==2.18.4 in /Users/rpelgrim/miniforge3/envs/daft/lib/python3.11/site-packages (from pydantic<3,>=1.9.0->unitycatalog->getdaft[unity]) (2.18.4)\n"
     ]
    }
   ],
   "source": [
    "!pip install -U \"getdaft[unity]\""
   ]
  },
  {
   "cell_type": "code",
   "execution_count": 12,
   "id": "cfbdade2-a452-4892-a1f3-681b50986069",
   "metadata": {},
   "outputs": [],
   "source": [
    "# import modules\n",
    "import daft\n",
    "from daft.unity_catalog import UnityCatalog"
   ]
  },
  {
   "cell_type": "code",
   "execution_count": null,
   "id": "bc116356-b394-456f-878d-1a68e9879ef5",
   "metadata": {},
   "outputs": [],
   "source": [
    "# in terminal window launch a local UnityCatalog server\n",
    "# bin/start-uc-server"
   ]
  },
  {
   "cell_type": "markdown",
   "id": "7c134106-e5d0-4e3a-bea9-72f3e2ee39aa",
   "metadata": {},
   "source": [
    "## Connect Daft to Unity Catalog"
   ]
  },
  {
   "cell_type": "code",
   "execution_count": 8,
   "id": "12843295-f098-4acd-9c20-c29710ad6941",
   "metadata": {},
   "outputs": [],
   "source": [
    "# point Daft to your UC server\n",
    "unity = UnityCatalog(\n",
    "    endpoint=\"http://127.0.0.1:8080\",\n",
    "    token=\"not-used\",\n",
    ")"
   ]
  },
  {
   "cell_type": "code",
   "execution_count": 9,
   "id": "c4c7c852-a58d-431d-b39d-e30dd41d247b",
   "metadata": {},
   "outputs": [
    {
     "name": "stdout",
     "output_type": "stream",
     "text": [
      "['unity']\n"
     ]
    }
   ],
   "source": [
    "# See all available catalogs\n",
    "print(unity.list_catalogs())"
   ]
  },
  {
   "cell_type": "code",
   "execution_count": 10,
   "id": "9ac17593-4e72-49ab-9a27-1bdf63646400",
   "metadata": {},
   "outputs": [
    {
     "name": "stdout",
     "output_type": "stream",
     "text": [
      "['unity.default']\n"
     ]
    }
   ],
   "source": [
    "# See available schemas in a given catalog\n",
    "print(unity.list_schemas(\"unity\"))"
   ]
  },
  {
   "cell_type": "code",
   "execution_count": 11,
   "id": "cbcc82fc-a5b8-45d8-9dce-e506509a8deb",
   "metadata": {},
   "outputs": [
    {
     "name": "stdout",
     "output_type": "stream",
     "text": [
      "['unity.default.numbers', 'unity.default.marksheet_uniform', 'unity.default.marksheet']\n"
     ]
    }
   ],
   "source": [
    "# See available tables in a given schema\n",
    "print(unity.list_tables(\"unity.default\"))"
   ]
  },
  {
   "cell_type": "code",
   "execution_count": null,
   "id": "cd9d1cae-8b2a-4d85-93de-8716f708d02e",
   "metadata": {},
   "outputs": [],
   "source": []
  },
  {
   "cell_type": "markdown",
   "id": "5ba771e2-e1ed-40fb-881b-514bb3fbf729",
   "metadata": {},
   "source": [
    "## Load Unity Tables into Daft DataFrame\n",
    "Let's look at how we can read Delta Lake tables in a Unity Catalog with Daft.\n",
    "\n",
    "First, point Daft to your Delta table stored in your Unity Catalog:"
   ]
  },
  {
   "cell_type": "code",
   "execution_count": 14,
   "id": "eeb1d1d8-11a8-4995-9a3d-8755db4092c3",
   "metadata": {},
   "outputs": [],
   "source": [
    "unity_table = unity.load_table(\"unity.default.numbers\")"
   ]
  },
  {
   "cell_type": "markdown",
   "id": "87cb1596-04fe-4042-914e-62951b807e85",
   "metadata": {},
   "source": [
    "Then simply read this table using the Daft `read_delta_lake` method:"
   ]
  },
  {
   "cell_type": "code",
   "execution_count": 30,
   "id": "8fccc396-4315-4094-9cf7-184bba6d2273",
   "metadata": {},
   "outputs": [
    {
     "data": {
      "text/html": [
       "<div>\n",
       "<table class=\"dataframe\">\n",
       "<thead><tr><th style=\"text-wrap: nowrap; max-width:192px; overflow:auto; text-align:left\">as_int<br />Int32</th><th style=\"text-wrap: nowrap; max-width:192px; overflow:auto; text-align:left\">as_double<br />Float64</th></tr></thead>\n",
       "<tbody>\n",
       "<tr><td><div style=\"text-align:left; max-width:192px; max-height:64px; overflow:auto\">564</div></td><td><div style=\"text-align:left; max-width:192px; max-height:64px; overflow:auto\">188.75535598441473</div></td></tr>\n",
       "<tr><td><div style=\"text-align:left; max-width:192px; max-height:64px; overflow:auto\">755</div></td><td><div style=\"text-align:left; max-width:192px; max-height:64px; overflow:auto\">883.6105633023361</div></td></tr>\n",
       "<tr><td><div style=\"text-align:left; max-width:192px; max-height:64px; overflow:auto\">644</div></td><td><div style=\"text-align:left; max-width:192px; max-height:64px; overflow:auto\">203.4395591086936</div></td></tr>\n",
       "<tr><td><div style=\"text-align:left; max-width:192px; max-height:64px; overflow:auto\">75</div></td><td><div style=\"text-align:left; max-width:192px; max-height:64px; overflow:auto\">277.8802190765611</div></td></tr>\n",
       "<tr><td><div style=\"text-align:left; max-width:192px; max-height:64px; overflow:auto\">42</div></td><td><div style=\"text-align:left; max-width:192px; max-height:64px; overflow:auto\">403.857969425109</div></td></tr>\n",
       "</tbody>\n",
       "</table>\n",
       "<small>(Showing first 5 rows)</small>\n",
       "</div>"
      ],
      "text/plain": [
       "╭────────┬────────────────────╮\n",
       "│\u001b[1m as_int \u001b[0m┆\u001b[1m as_double          \u001b[0m│\n",
       "│\u001b[1m ---    \u001b[0m┆\u001b[1m ---                \u001b[0m│\n",
       "│\u001b[1m Int32  \u001b[0m┆\u001b[1m Float64            \u001b[0m│\n",
       "╞════════╪════════════════════╡\n",
       "│ 564    ┆ 188.75535598441473 │\n",
       "├╌╌╌╌╌╌╌╌┼╌╌╌╌╌╌╌╌╌╌╌╌╌╌╌╌╌╌╌╌┤\n",
       "│ 755    ┆ 883.6105633023361  │\n",
       "├╌╌╌╌╌╌╌╌┼╌╌╌╌╌╌╌╌╌╌╌╌╌╌╌╌╌╌╌╌┤\n",
       "│ 644    ┆ 203.4395591086936  │\n",
       "├╌╌╌╌╌╌╌╌┼╌╌╌╌╌╌╌╌╌╌╌╌╌╌╌╌╌╌╌╌┤\n",
       "│ 75     ┆ 277.8802190765611  │\n",
       "├╌╌╌╌╌╌╌╌┼╌╌╌╌╌╌╌╌╌╌╌╌╌╌╌╌╌╌╌╌┤\n",
       "│ 42     ┆ 403.857969425109   │\n",
       "╰────────┴────────────────────╯\n",
       "\n",
       "(Showing first 5 rows)"
      ]
     },
     "metadata": {},
     "output_type": "display_data"
    }
   ],
   "source": [
    "df = daft.read_delta_lake(unity_table)\n",
    "df.show(5)"
   ]
  },
  {
   "cell_type": "code",
   "execution_count": 28,
   "id": "371c637a-1825-44ce-8a49-c974483aadaa",
   "metadata": {},
   "outputs": [
    {
     "data": {
      "text/plain": [
       "'|    |   as_int |   as_double |\\n|---:|---------:|------------:|\\n|  0 |      564 |    188.755  |\\n|  1 |      755 |    883.611  |\\n|  2 |      644 |    203.44   |\\n|  3 |       75 |    277.88   |\\n|  4 |       42 |    403.858  |\\n|  5 |      680 |    797.691  |\\n|  6 |      821 |    767.8    |\\n|  7 |      484 |    344.004  |\\n|  8 |      477 |    380.679  |\\n|  9 |      131 |     35.4437 |\\n| 10 |      294 |    209.322  |\\n| 11 |      150 |    329.197  |\\n| 12 |      539 |    425.661  |\\n| 13 |      247 |    477.742  |\\n| 14 |      958 |    509.371  |'"
      ]
     },
     "execution_count": 28,
     "metadata": {},
     "output_type": "execute_result"
    }
   ],
   "source": [
    "df_p.to_markdown()"
   ]
  },
  {
   "cell_type": "markdown",
   "id": "2f285bd1-b722-48fa-8b5e-8f8edf92ac1f",
   "metadata": {},
   "source": [
    "Any subsequent filter operations on the Daft `df` DataFrame object will be correctly optimized to take advantage of Delta Lake features."
   ]
  },
  {
   "cell_type": "code",
   "execution_count": 19,
   "id": "409cf83a-e172-427f-8d73-3af10068b1e1",
   "metadata": {},
   "outputs": [
    {
     "data": {
      "text/html": [
       "<div>\n",
       "<table class=\"dataframe\">\n",
       "<thead><tr><th style=\"text-wrap: nowrap; max-width:192px; overflow:auto; text-align:left\">as_int<br />Int32</th><th style=\"text-wrap: nowrap; max-width:192px; overflow:auto; text-align:left\">as_double<br />Float64</th></tr></thead>\n",
       "<tbody>\n",
       "<tr><td><div style=\"text-align:left; max-width:192px; max-height:64px; overflow:auto\">564</div></td><td><div style=\"text-align:left; max-width:192px; max-height:64px; overflow:auto\">188.75535598441473</div></td></tr>\n",
       "<tr><td><div style=\"text-align:left; max-width:192px; max-height:64px; overflow:auto\">755</div></td><td><div style=\"text-align:left; max-width:192px; max-height:64px; overflow:auto\">883.6105633023361</div></td></tr>\n",
       "<tr><td><div style=\"text-align:left; max-width:192px; max-height:64px; overflow:auto\">644</div></td><td><div style=\"text-align:left; max-width:192px; max-height:64px; overflow:auto\">203.4395591086936</div></td></tr>\n",
       "<tr><td><div style=\"text-align:left; max-width:192px; max-height:64px; overflow:auto\">680</div></td><td><div style=\"text-align:left; max-width:192px; max-height:64px; overflow:auto\">797.6912200731077</div></td></tr>\n",
       "<tr><td><div style=\"text-align:left; max-width:192px; max-height:64px; overflow:auto\">821</div></td><td><div style=\"text-align:left; max-width:192px; max-height:64px; overflow:auto\">767.7998537403159</div></td></tr>\n",
       "<tr><td><div style=\"text-align:left; max-width:192px; max-height:64px; overflow:auto\">539</div></td><td><div style=\"text-align:left; max-width:192px; max-height:64px; overflow:auto\">425.66102859000944</div></td></tr>\n",
       "<tr><td><div style=\"text-align:left; max-width:192px; max-height:64px; overflow:auto\">958</div></td><td><div style=\"text-align:left; max-width:192px; max-height:64px; overflow:auto\">509.3712727285101</div></td></tr>\n",
       "</tbody>\n",
       "</table>\n",
       "<small>(Showing first 7 of 7 rows)</small>\n",
       "</div>"
      ],
      "text/plain": [
       "╭────────┬────────────────────╮\n",
       "│\u001b[1m as_int \u001b[0m┆\u001b[1m as_double          \u001b[0m│\n",
       "│\u001b[1m ---    \u001b[0m┆\u001b[1m ---                \u001b[0m│\n",
       "│\u001b[1m Int32  \u001b[0m┆\u001b[1m Float64            \u001b[0m│\n",
       "╞════════╪════════════════════╡\n",
       "│ 564    ┆ 188.75535598441473 │\n",
       "├╌╌╌╌╌╌╌╌┼╌╌╌╌╌╌╌╌╌╌╌╌╌╌╌╌╌╌╌╌┤\n",
       "│ 755    ┆ 883.6105633023361  │\n",
       "├╌╌╌╌╌╌╌╌┼╌╌╌╌╌╌╌╌╌╌╌╌╌╌╌╌╌╌╌╌┤\n",
       "│ 644    ┆ 203.4395591086936  │\n",
       "├╌╌╌╌╌╌╌╌┼╌╌╌╌╌╌╌╌╌╌╌╌╌╌╌╌╌╌╌╌┤\n",
       "│ 680    ┆ 797.6912200731077  │\n",
       "├╌╌╌╌╌╌╌╌┼╌╌╌╌╌╌╌╌╌╌╌╌╌╌╌╌╌╌╌╌┤\n",
       "│ 821    ┆ 767.7998537403159  │\n",
       "├╌╌╌╌╌╌╌╌┼╌╌╌╌╌╌╌╌╌╌╌╌╌╌╌╌╌╌╌╌┤\n",
       "│ 539    ┆ 425.66102859000944 │\n",
       "├╌╌╌╌╌╌╌╌┼╌╌╌╌╌╌╌╌╌╌╌╌╌╌╌╌╌╌╌╌┤\n",
       "│ 958    ┆ 509.3712727285101  │\n",
       "╰────────┴────────────────────╯\n",
       "\n",
       "(Showing first 7 of 7 rows)"
      ]
     },
     "metadata": {},
     "output_type": "display_data"
    }
   ],
   "source": [
    "# HOW DO I SEE PARTITION_KEY OF DELTA TABLE??\n",
    "# Filter which takes advantage of partition pruning capabilities of Delta Lake\n",
    "df = df.where(df[\"as_int\"] > 500)\n",
    "df.show()"
   ]
  },
  {
   "cell_type": "code",
   "execution_count": null,
   "id": "9b3c6285-f7f2-4fe3-a347-9e4604dc5850",
   "metadata": {},
   "outputs": [],
   "source": []
  },
  {
   "cell_type": "code",
   "execution_count": null,
   "id": "32eb1e7e-1d7f-43fb-a291-04931de448b9",
   "metadata": {},
   "outputs": [],
   "source": [
    "print(unity.list_tables)"
   ]
  },
  {
   "cell_type": "code",
   "execution_count": null,
   "id": "25849e8a-1a1f-4371-8c89-9923397ed0d8",
   "metadata": {},
   "outputs": [],
   "source": []
  }
 ],
 "metadata": {
  "kernelspec": {
   "display_name": "Python [conda env:daft] *",
   "language": "python",
   "name": "conda-env-daft-py"
  },
  "language_info": {
   "codemirror_mode": {
    "name": "ipython",
    "version": 3
   },
   "file_extension": ".py",
   "mimetype": "text/x-python",
   "name": "python",
   "nbconvert_exporter": "python",
   "pygments_lexer": "ipython3",
   "version": "3.11.9"
  }
 },
 "nbformat": 4,
 "nbformat_minor": 5
}
